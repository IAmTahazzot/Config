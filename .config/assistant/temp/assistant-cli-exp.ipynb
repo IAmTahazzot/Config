{
 "cells": [
  {
   "cell_type": "code",
   "execution_count": 6,
   "metadata": {},
   "outputs": [
    {
     "name": "stdout",
     "output_type": "stream",
     "text": [
      "Apr 17, 2024\n",
      "Jan 02, 2024\n"
     ]
    }
   ],
   "source": [
    "import datetime\n",
    "\n",
    "date = datetime.datetime.now().strftime(\"%b %d, %Y\")\n",
    "print(date)\n",
    "\n",
    "print(datetime.datetime(2024, 1, 2).strftime(\"%b %d, %Y\"))"
   ]
  },
  {
   "cell_type": "code",
   "execution_count": 1,
   "metadata": {},
   "outputs": [
    {
     "name": "stdout",
     "output_type": "stream",
     "text": [
      "ID        Name                          Type                Client              Priority            Status              Start Date          Due Date            \n",
      "1         HELLO_FROM_THE_OTHER_SIDE     CLT                 anonymous           hight               FROZEN              Apr 19, 2024        Apr 19, 2024        \n",
      "good to go\n"
     ]
    }
   ],
   "source": [
    "import datetime\n",
    "import os\n",
    "from colorama import Fore, Style, init\n",
    "\n",
    "init(autoreset=True)\n",
    "\n",
    "\n",
    "def project_view(\n",
    "\n",
    "    id: int = None,\n",
    "    name: str = None,\n",
    "    type: str = None,\n",
    "    client: str = None,\n",
    "    priority: str = None,\n",
    "    status: str = None,\n",
    "    start_date: datetime.datetime = None,\n",
    "    due_date: datetime.datetime = None,\n",
    ") -> None:\n",
    "    if any(\n",
    "        arg is None\n",
    "        for arg in [id, name, type, client, priority, status, start_date, due_date]\n",
    "    ):\n",
    "        raise ValueError(\"All arguments must be provided\")\n",
    "\n",
    "    columns = 190\n",
    "\n",
    "    print(\n",
    "        f\"{Fore.GREEN}{'ID':<10}{'Name':<30}{'Type':<20}{'Client':<20}{'Priority':<20}{'Status':<20}{'Start Date':<20}{'Due Date':<20}\"\n",
    "    )\n",
    "    print(\n",
    "        f\"{Fore.YELLOW}{id:<10}{name:<30}{type:<20}{client:<20}{priority:<20}{status:<20}{start_date.strftime('%b %d, %Y'):<20}{due_date.strftime('%b %d, %Y'):<20}\"\n",
    "    )\n",
    "\n",
    "\n",
    "    print(\"good to go\")\n",
    "    pass\n",
    "\n",
    "\n",
    "project_view(\n",
    "    1,\n",
    "    \"HELLO_FROM_THE_OTHER_SIDE\",\n",
    "    \"CLT\",\n",
    "    \"anonymous\",\n",
    "    \"hight\",\n",
    "    \"FROZEN\",\n",
    "    datetime.datetime.now(),\n",
    "    datetime.datetime.now(),\n",
    ")"
   ]
  },
  {
   "cell_type": "code",
   "execution_count": 11,
   "metadata": {},
   "outputs": [
    {
     "data": {
      "text/plain": [
       "'A_NEW_PROJECT'"
      ]
     },
     "execution_count": 11,
     "metadata": {},
     "output_type": "execute_result"
    }
   ],
   "source": [
    "t = 'Hello there'\n",
    "\n",
    "# make t string static width of 30 and fill the rest with dots\n",
    "\n",
    "print(f\"{t:<30}\")"
   ]
  }
 ],
 "metadata": {
  "kernelspec": {
   "display_name": "Python 3",
   "language": "python",
   "name": "python3"
  },
  "language_info": {
   "codemirror_mode": {
    "name": "ipython",
    "version": 3
   },
   "file_extension": ".py",
   "mimetype": "text/x-python",
   "name": "python",
   "nbconvert_exporter": "python",
   "pygments_lexer": "ipython3",
   "version": "3.12.3"
  }
 },
 "nbformat": 4,
 "nbformat_minor": 2
}
